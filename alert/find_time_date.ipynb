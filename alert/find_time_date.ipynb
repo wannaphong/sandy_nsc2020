{
 "cells": [
  {
   "cell_type": "code",
   "execution_count": 55,
   "metadata": {},
   "outputs": [],
   "source": [
    "import time\n",
    "from collections import defaultdict\n",
    "from datetime import time\n",
    "from pythainlp.util import thai_time,thai_strftime"
   ]
  },
  {
   "cell_type": "code",
   "execution_count": 56,
   "metadata": {},
   "outputs": [],
   "source": [
    "dict_time= defaultdict(list)"
   ]
  },
  {
   "cell_type": "code",
   "execution_count": 57,
   "metadata": {},
   "outputs": [],
   "source": [
    "for i in range(0,24):\n",
    "  for j in range(0,60):\n",
    "    if j <10:\n",
    "      j=\"0\"+str(j)\n",
    "    t=str(i)+\":\"+str(j)\n",
    "    dict_time[t]=[thai_time(t),thai_time(t, \"6h\"),thai_time(t, \"m6h\")]"
   ]
  },
  {
   "cell_type": "code",
   "execution_count": 58,
   "metadata": {},
   "outputs": [
    {
     "data": {
      "text/plain": [
       "['แปดนาฬิกาสามสิบนาที', 'สองโมงเช้าครึ่ง', 'แปดโมงครึ่ง']"
      ]
     },
     "execution_count": 58,
     "metadata": {},
     "output_type": "execute_result"
    }
   ],
   "source": [
    "dict_time[\"8:30\"]"
   ]
  },
  {
   "cell_type": "code",
   "execution_count": 59,
   "metadata": {},
   "outputs": [],
   "source": [
    "dict_time2=defaultdict(str)"
   ]
  },
  {
   "cell_type": "code",
   "execution_count": 60,
   "metadata": {},
   "outputs": [],
   "source": [
    "for i in list(dict_time.keys()):\n",
    "    for j in dict_time[i]:\n",
    "        dict_time2[j]=i"
   ]
  },
  {
   "cell_type": "code",
   "execution_count": 61,
   "metadata": {},
   "outputs": [],
   "source": [
    "def str2time(t):\n",
    "    \"\"\"\n",
    "    str2time(t)\n",
    "    \n",
    "    :param str t: ข้อความเวลา\n",
    "    \n",
    "    :return: เวลา\n",
    "    :rtype: datetime.time\n",
    "    \"\"\"\n",
    "    t=t.replace(\"กว่า\",\"\").replace(\"หน่อย\",\"\")\n",
    "    temp=False\n",
    "    for i in [\"ทุ่ม\",\"นาฬิกา\",\"โมง\"]:\n",
    "        if i in t:\n",
    "            temp=True\n",
    "            break\n",
    "    if not temp:\n",
    "        t+=\"นาที\"\n",
    "    if t in list(dict_time2.keys()):\n",
    "        if len(dict_time2[t])!=5:\n",
    "            return time.fromisoformat(\"0\"+dict_time2[t])\n",
    "    else:\n",
    "        return 0"
   ]
  },
  {
   "cell_type": "code",
   "execution_count": 62,
   "metadata": {},
   "outputs": [
    {
     "data": {
      "text/plain": [
       "datetime.time(1, 15)"
      ]
     },
     "execution_count": 62,
     "metadata": {},
     "output_type": "execute_result"
    }
   ],
   "source": [
    "str2time(\"ตีหนึ่งสิบห้า\")"
   ]
  },
  {
   "cell_type": "code",
   "execution_count": null,
   "metadata": {},
   "outputs": [],
   "source": []
  }
 ],
 "metadata": {
  "kernelspec": {
   "display_name": "Python 3",
   "language": "python",
   "name": "python3"
  },
  "language_info": {
   "codemirror_mode": {
    "name": "ipython",
    "version": 3
   },
   "file_extension": ".py",
   "mimetype": "text/x-python",
   "name": "python",
   "nbconvert_exporter": "python",
   "pygments_lexer": "ipython3",
   "version": "3.7.3"
  }
 },
 "nbformat": 4,
 "nbformat_minor": 2
}
